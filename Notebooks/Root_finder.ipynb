{
 "cells": [
  {
   "cell_type": "markdown",
   "metadata": {},
   "source": [
    "## Defining test functions"
   ]
  },
  {
   "cell_type": "markdown",
   "metadata": {},
   "source": [
    "** In the cell below, the \"phi\" functions are the chosen iteration functions for its relative functions, used in the MPF (Fixed Point Method) **"
   ]
  },
  {
   "cell_type": "code",
   "execution_count": 1,
   "metadata": {
    "collapsed": true
   },
   "outputs": [],
   "source": [
    "from math import cos, sin, log, exp, sqrt\n",
    "\n",
    "def func1(x):\n",
    "    return x**3 - x - 1\n",
    "\n",
    "def phi1(x):\n",
    "    return 1/x + 1/(x**2)\n",
    "\n",
    "def func2(x):\n",
    "    return (x**4 - 6*(x**3) + 10*(x**2) - 6*x + 9)\n",
    "\n",
    "def phi2(x):\n",
    "    return 0.19 + x*func2(x)\n",
    "\n",
    "def func3(x):\n",
    "    return math.exp(-(x**2)) - math.cos(x)\n",
    "\n",
    "def phi3(x):\n",
    "    return math.cos(x) - math.exp(-(x**2))\n",
    "\n",
    "def func4(x):\n",
    "    return 4*sin(x) - exp(x)\n",
    "\n",
    "def phi4(x):\n",
    "    return x - 2*sin(x) + 0.5*exp(0.5)\n",
    "\n",
    "def func5(x):\n",
    "    return x*log(x) - 1\n",
    "\n",
    "def phi5(x):\n",
    "    return x - 1.3*(x*log(x) - 1)\n",
    "\n",
    "def func6(x):\n",
    "    return x*sin(x) + 3*cos(x) - x\n",
    "\n",
    "def func7(x):\n",
    "    return x**3 + 6*(x**2) - 8\n",
    "\n",
    "def phi7(x):\n",
    "    return sqrt(8/(x+6))\n",
    "\n",
    "def func8(x):\n",
    "    return -x**3 + 2*(x**2) - 3*x - 7\n",
    "\n",
    "def func9(x):\n",
    "    return x**2 + (1-sqrt(3))*x - sqrt(3)"
   ]
  },
  {
   "cell_type": "code",
   "execution_count": 2,
   "metadata": {
    "collapsed": true
   },
   "outputs": [],
   "source": [
    "import numpy as np"
   ]
  },
  {
   "cell_type": "code",
   "execution_count": 3,
   "metadata": {
    "collapsed": true
   },
   "outputs": [],
   "source": [
    "def f(x): #tested!\n",
    "    return (x**3 - 9*x + 3)\n",
    "\n",
    "def f1(x): #tested!\n",
    "    return (x**3 - 10*(x**2) + 5)\n",
    "\n",
    "def f2(x): #tested!\n",
    "    return (1/((x-0.3)**2 + 0.01) - 1/((x-0.8)**2 + 0.04))\n",
    "\n",
    "def f3(x): #tested!\n",
    "    return np.cosh(x)*np.cos(x)\n",
    "\n",
    "def f4(x):\n",
    "    return (x*np.sin(x)+3*np.cos(x)-x)\n",
    "\n",
    "def f5(x):\n",
    "    return np.cos(x) - 3*np.sin(np.tan(x)-1)\n",
    "\n",
    "def f6(x):\n",
    "    return x-np.tan(x)"
   ]
  },
  {
   "cell_type": "markdown",
   "metadata": {},
   "source": [
    "# Implementating Methods"
   ]
  },
  {
   "cell_type": "markdown",
   "metadata": {},
   "source": [
    "Let's implement the methods for finding roots of various functions viewed in class.\n",
    "\n",
    "Each method is described below, as it follows:"
   ]
  },
  {
   "cell_type": "markdown",
   "metadata": {},
   "source": [
    "## Bisection Method"
   ]
  },
  {
   "cell_type": "markdown",
   "metadata": {},
   "source": [
    "for a given funtion f, an interval [a, b], a tolerance epsilon and a maximum number of iterations"
   ]
  },
  {
   "cell_type": "code",
   "execution_count": 4,
   "metadata": {
    "collapsed": true
   },
   "outputs": [],
   "source": [
    "def bisec(f, a, b, epsilon, maxIter = 100):\n",
    "    #toma os valores de f(a) e f(b)\n",
    "    Fa = f(a); Fb = f(b)\n",
    "\n",
    "    if round(Fa, 2) == 0:\n",
    "        return (False, a)\n",
    "    elif round(Fb, 2) == 0:\n",
    "        return (False, b)\n",
    "    \n",
    "    #testing the signal\n",
    "    if Fa*Fb > 0:\n",
    "        print('Erro: não há mudança de sinal no intervalo dado!')\n",
    "        return (True, None)\n",
    "    \n",
    "    #initializes the initial range\n",
    "    deltaX = abs(b - a)/2\n",
    "    \n",
    "    for i in range(1, maxIter+1):\n",
    "        #takes x on the half of the interval or its value at the given point\n",
    "        x = (a + b)/2; Fx = f(x)\n",
    "        \n",
    "        print(\"%d\\t%e\\t%e\\t%e\\t%e\\t%e\\t%e\\t%e\"%(i, a, Fa, b, Fb, x, Fx, deltaX))\n",
    "        \n",
    "        #criteria for stopping the algorithm\n",
    "        if (deltaX <= epsilon) or (abs(Fx) <= epsilon):\n",
    "            break\n",
    "        \n",
    "        #update the values of a or b by testing the signals\n",
    "        if Fa*Fx > 0: #se f(a) e f(x) tiverem o mesmo sinal\n",
    "            a = x; Fa = Fx\n",
    "        else:\n",
    "            b = x\n",
    "        \n",
    "        #update the range\n",
    "        deltaX = deltaX/2\n",
    "    \n",
    "    #convergence test\n",
    "    if deltaX <= epsilon or abs(Fx) <= epsilon:\n",
    "        error = False\n",
    "    else:\n",
    "        error = True\n",
    "    \n",
    "    return (error, x)"
   ]
  },
  {
   "cell_type": "markdown",
   "metadata": {},
   "source": [
    "## False Position Method"
   ]
  },
  {
   "cell_type": "code",
   "execution_count": 5,
   "metadata": {
    "collapsed": true
   },
   "outputs": [],
   "source": [
    "def false_pos(f, a, b, epsilon, maxIter=100):\n",
    "    Fa = f(a); Fb = f(b)\n",
    "    \n",
    "    #if a or b are roots\n",
    "    if Fa == 0:\n",
    "        return (False, a)\n",
    "    elif Fb == 0:\n",
    "        return (False, b)\n",
    "    \n",
    "    #testing the signal\n",
    "    if Fa*Fb > 0:\n",
    "        print('Erro: não há mudança de sinal no intervalo dado!')\n",
    "        return (True, None)\n",
    "    \n",
    "    #making sure f(a) is the negative value\n",
    "    if Fa > 0:\n",
    "        aux = a; a = b; b = aux\n",
    "        aux = Fa; Fa = Fb; Fb = aux\n",
    "    \n",
    "    for i in range(1, maxIter+1):\n",
    "        x = (a*Fb - b*Fa)/(Fb - Fa); Fx = f(x)\n",
    "        \n",
    "        deltaX = abs(b - a)\n",
    "        \n",
    "        print(\"%d\\t%e\\t%e\\t%e\\t%e\\t%e\\t%e\\t%e\"%(i, a, Fa, b, Fb, x, Fx, deltaX))\n",
    "        \n",
    "        #criteria for stopping the algorithm\n",
    "        if (deltaX <= epsilon) or (abs(Fx) <= epsilon):\n",
    "            break\n",
    "        \n",
    "        #update the values of a, b, f(b) and f(a) based on the value of f(x)\n",
    "        if Fx < 0:\n",
    "            a = x; Fa = Fx\n",
    "        else:\n",
    "            b = x; Fb = Fx\n",
    "    \n",
    "    #convergence test\n",
    "    if deltaX <= epsilon or abs(Fx) <= epsilon:\n",
    "        error = False\n",
    "    else:\n",
    "        error = True\n",
    "    \n",
    "    return (error, x)    "
   ]
  },
  {
   "cell_type": "markdown",
   "metadata": {},
   "source": [
    "## Fixed Point"
   ]
  },
  {
   "cell_type": "markdown",
   "metadata": {},
   "source": [
    "** Supõem-se satisfeitas as condições do teorema de convergência da função phi(x) = x **"
   ]
  },
  {
   "cell_type": "code",
   "execution_count": 6,
   "metadata": {
    "collapsed": true
   },
   "outputs": [],
   "source": [
    "def mpf(f, iter_func, x0, epsilon, maxIter):\n",
    "    \n",
    "    #check if the criteria for stopping has been achieved\n",
    "    if abs(f(x0)) < epsilon:\n",
    "        x = x0\n",
    "        return (False, x)\n",
    "    \n",
    "    for k in range(1, maxIter+1):\n",
    "        x = iter_func(x0)\n",
    "        \n",
    "        print('Iter        x                f(x)')\n",
    "        print(\"%d\\t%e\\t%e\"%(k, x, f(x)))\n",
    "        print('-------------------------------------')\n",
    "        \n",
    "        if abs(f(x)) < epsilon:\n",
    "            return (False, x)\n",
    "        x0 = x\n",
    "    \n",
    "    return (True, None)"
   ]
  },
  {
   "cell_type": "markdown",
   "metadata": {},
   "source": [
    "## Newton-Raphson Method"
   ]
  },
  {
   "cell_type": "markdown",
   "metadata": {},
   "source": [
    "** Decrease number of iterations, choosing such iter fuction that its derivative is null **"
   ]
  },
  {
   "cell_type": "code",
   "execution_count": 7,
   "metadata": {
    "collapsed": true
   },
   "outputs": [],
   "source": [
    "def newton_raphson(f, df, x0, epsilon, maxIter):\n",
    "    \n",
    "    #check if the criteria for stopping has been achieved\n",
    "    if abs(f(x0)) < epsilon:\n",
    "        x = x0\n",
    "        return (False, x)\n",
    "    \n",
    "    for k in range(1, maxIter+1):\n",
    "        x = x0 - (f(x0)/df(x0))\n",
    "        \n",
    "        print('Iter        x                f(x)')\n",
    "        print(\"%d\\t%e\\t%e\"%(k, x, f(x)))\n",
    "        print('-------------------------------------')\n",
    "        \n",
    "        if abs(f(x)) < epsilon:\n",
    "            return (False, x)\n",
    "        x0 = x\n",
    "    \n",
    "    return (True, None)"
   ]
  },
  {
   "cell_type": "markdown",
   "metadata": {},
   "source": [
    "## Incremental Search"
   ]
  },
  {
   "cell_type": "code",
   "execution_count": 8,
   "metadata": {
    "collapsed": true
   },
   "outputs": [],
   "source": [
    "def inc_search(f, a, b, dx):\n",
    "    x1 = a\n",
    "    f1 = f(a)\n",
    "    x2 = a + dx\n",
    "    f2 = f(x2)\n",
    "\n",
    "    while f1*f2 >= 0:\n",
    "        if x1 >= b:\n",
    "            return (None,None)\n",
    "        x1 = x2\n",
    "        f1 = f2\n",
    "        x2 = x1 + dx\n",
    "        f2 = f(x2)\n",
    "    else:\n",
    "        return x1,x2"
   ]
  },
  {
   "cell_type": "code",
   "execution_count": 9,
   "metadata": {},
   "outputs": [
    {
     "name": "stdout",
     "output_type": "stream",
     "text": [
      "1\t0.000000e+00\t-1.732051e+00\t2.000000e+00\t8.038476e-01\t1.000000e+00\t-1.464102e+00\t1.000000e+00\n",
      "2\t1.000000e+00\t-1.464102e+00\t2.000000e+00\t8.038476e-01\t1.500000e+00\t-5.801270e-01\t5.000000e-01\n",
      "3\t1.500000e+00\t-5.801270e-01\t2.000000e+00\t8.038476e-01\t1.750000e+00\t4.936028e-02\t2.500000e-01\n",
      "4\t1.500000e+00\t-5.801270e-01\t1.750000e+00\t8.038476e-01\t1.625000e+00\t-2.810084e-01\t1.250000e-01\n",
      "5\t1.625000e+00\t-2.810084e-01\t1.750000e+00\t8.038476e-01\t1.687500e+00\t-1.197303e-01\t6.250000e-02\n",
      "6\t1.687500e+00\t-1.197303e-01\t1.750000e+00\t8.038476e-01\t1.718750e+00\t-3.616157e-02\t3.125000e-02\n",
      "7\t1.718750e+00\t-3.616157e-02\t1.750000e+00\t8.038476e-01\t1.734375e+00\t6.355214e-03\t1.562500e-02\n",
      "8\t1.718750e+00\t-3.616157e-02\t1.734375e+00\t8.038476e-01\t1.726562e+00\t-1.496421e-02\t7.812500e-03\n",
      "9\t1.726562e+00\t-1.496421e-02\t1.734375e+00\t8.038476e-01\t1.730469e+00\t-4.319759e-03\t3.906250e-03\n",
      "10\t1.730469e+00\t-4.319759e-03\t1.734375e+00\t8.038476e-01\t1.732422e+00\t1.013913e-03\t1.953125e-03\n",
      "11\t1.730469e+00\t-4.319759e-03\t1.732422e+00\t8.038476e-01\t1.731445e+00\t-1.653877e-03\t9.765625e-04\n",
      "12\t1.731445e+00\t-1.653877e-03\t1.732422e+00\t8.038476e-01\t1.731934e+00\t-3.202204e-04\t4.882812e-04\n",
      "13\t1.731934e+00\t-3.202204e-04\t1.732422e+00\t8.038476e-01\t1.732178e+00\t3.467866e-04\t2.441406e-04\n",
      "14\t1.731934e+00\t-3.202204e-04\t1.732178e+00\t8.038476e-01\t1.732056e+00\t1.326821e-05\t1.220703e-04\n"
     ]
    },
    {
     "data": {
      "text/plain": [
       "(False, 1.7320556640625)"
      ]
     },
     "execution_count": 9,
     "metadata": {},
     "output_type": "execute_result"
    }
   ],
   "source": [
    "bisec(func9, a=0, b=2, epsilon=0.0001, maxIter=50)"
   ]
  },
  {
   "cell_type": "markdown",
   "metadata": {},
   "source": [
    "# Testing the methods"
   ]
  },
  {
   "cell_type": "markdown",
   "metadata": {},
   "source": [
    "## Bisection"
   ]
  },
  {
   "cell_type": "code",
   "execution_count": 10,
   "metadata": {},
   "outputs": [
    {
     "name": "stdout",
     "output_type": "stream",
     "text": [
      "Erro: não há mudança de sinal no intervalo dado!\n",
      "\n",
      " True None\n",
      "\n",
      "--------------------------------------------------------------------------------------------------------------\n",
      "\n",
      "1\t-5.000000e+00\t1.056365e+00\t-4.000000e+00\t-9.881408e-01\t-4.500000e+00\t-5.312729e-01\t5.000000e-01\n",
      "2\t-5.000000e+00\t1.056365e+00\t-4.500000e+00\t-9.881408e-01\t-4.750000e+00\t1.161657e-01\t2.500000e-01\n",
      "3\t-4.750000e+00\t1.161657e-01\t-4.500000e+00\t-9.881408e-01\t-4.625000e+00\t-2.441844e-01\t1.250000e-01\n",
      "4\t-4.750000e+00\t1.161657e-01\t-4.625000e+00\t-9.881408e-01\t-4.687500e+00\t-7.320744e-02\t6.250000e-02\n",
      "5\t-4.750000e+00\t1.161657e-01\t-4.687500e+00\t-9.881408e-01\t-4.718750e+00\t1.917840e-02\t3.125000e-02\n",
      "6\t-4.718750e+00\t1.917840e-02\t-4.687500e+00\t-9.881408e-01\t-4.703125e+00\t-2.758973e-02\t1.562500e-02\n",
      "7\t-4.718750e+00\t1.917840e-02\t-4.703125e+00\t-9.881408e-01\t-4.710938e+00\t-4.349477e-03\t7.812500e-03\n",
      "8\t-4.718750e+00\t1.917840e-02\t-4.710938e+00\t-9.881408e-01\t-4.714844e+00\t7.378507e-03\t3.906250e-03\n",
      "9\t-4.714844e+00\t7.378507e-03\t-4.710938e+00\t-9.881408e-01\t-4.712891e+00\t1.505527e-03\t1.953125e-03\n",
      "10\t-4.712891e+00\t1.505527e-03\t-4.710938e+00\t-9.881408e-01\t-4.711914e+00\t-1.424222e-03\t9.765625e-04\n",
      "11\t-4.712891e+00\t1.505527e-03\t-4.711914e+00\t-9.881408e-01\t-4.712402e+00\t4.009052e-05\t4.882812e-04\n",
      "12\t-4.712402e+00\t4.009052e-05\t-4.711914e+00\t-9.881408e-01\t-4.712158e+00\t-6.922063e-04\t2.441406e-04\n",
      "13\t-4.712402e+00\t4.009052e-05\t-4.712158e+00\t-9.881408e-01\t-4.712280e+00\t-3.260930e-04\t1.220703e-04\n",
      "14\t-4.712402e+00\t4.009052e-05\t-4.712280e+00\t-9.881408e-01\t-4.712341e+00\t-1.430100e-04\t6.103516e-05\n",
      "15\t-4.712402e+00\t4.009052e-05\t-4.712341e+00\t-9.881408e-01\t-4.712372e+00\t-5.146195e-05\t3.051758e-05\n",
      "16\t-4.712402e+00\t4.009052e-05\t-4.712372e+00\t-9.881408e-01\t-4.712387e+00\t-5.686263e-06\t1.525879e-05\n",
      "\n",
      " False -4.7123870849609375\n",
      "\n",
      "--------------------------------------------------------------------------------------------------------------\n",
      "\n",
      "1\t-4.000000e+00\t-9.881408e-01\t-3.000000e+00\t4.533825e-01\t-3.500000e+00\t-5.371114e-01\t5.000000e-01\n",
      "2\t-3.500000e+00\t-5.371114e-01\t-3.000000e+00\t4.533825e-01\t-3.250000e+00\t-8.402322e-02\t2.500000e-01\n",
      "3\t-3.250000e+00\t-8.402322e-02\t-3.000000e+00\t4.533825e-01\t-3.125000e+00\t1.772626e-01\t1.250000e-01\n",
      "4\t-3.250000e+00\t-8.402322e-02\t-3.125000e+00\t4.533825e-01\t-3.187500e+00\t4.438240e-02\t6.250000e-02\n",
      "5\t-3.250000e+00\t-8.402322e-02\t-3.187500e+00\t4.533825e-01\t-3.218750e+00\t-2.042841e-02\t3.125000e-02\n",
      "6\t-3.218750e+00\t-2.042841e-02\t-3.187500e+00\t4.533825e-01\t-3.203125e+00\t1.183111e-02\t1.562500e-02\n",
      "7\t-3.218750e+00\t-2.042841e-02\t-3.203125e+00\t4.533825e-01\t-3.210938e+00\t-4.335886e-03\t7.812500e-03\n",
      "8\t-3.210938e+00\t-4.335886e-03\t-3.203125e+00\t4.533825e-01\t-3.207031e+00\t3.738397e-03\t3.906250e-03\n",
      "9\t-3.210938e+00\t-4.335886e-03\t-3.207031e+00\t4.533825e-01\t-3.208984e+00\t-3.010597e-04\t1.953125e-03\n",
      "10\t-3.208984e+00\t-3.010597e-04\t-3.207031e+00\t4.533825e-01\t-3.208008e+00\t1.718091e-03\t9.765625e-04\n",
      "11\t-3.208984e+00\t-3.010597e-04\t-3.208008e+00\t4.533825e-01\t-3.208496e+00\t7.083714e-04\t4.882812e-04\n",
      "12\t-3.208984e+00\t-3.010597e-04\t-3.208496e+00\t4.533825e-01\t-3.208740e+00\t2.036197e-04\t2.441406e-04\n",
      "13\t-3.208984e+00\t-3.010597e-04\t-3.208740e+00\t4.533825e-01\t-3.208862e+00\t-4.872905e-05\t1.220703e-04\n",
      "14\t-3.208862e+00\t-4.872905e-05\t-3.208740e+00\t4.533825e-01\t-3.208801e+00\t7.744305e-05\t6.103516e-05\n",
      "15\t-3.208862e+00\t-4.872905e-05\t-3.208801e+00\t4.533825e-01\t-3.208832e+00\t1.435643e-05\t3.051758e-05\n",
      "16\t-3.208862e+00\t-4.872905e-05\t-3.208832e+00\t4.533825e-01\t-3.208847e+00\t-1.718645e-05\t1.525879e-05\n",
      "17\t-3.208847e+00\t-1.718645e-05\t-3.208832e+00\t4.533825e-01\t-3.208839e+00\t-1.415043e-06\t7.629395e-06\n",
      "\n",
      " False -3.2088394165039062\n",
      "\n",
      "--------------------------------------------------------------------------------------------------------------\n",
      "\n",
      "Erro: não há mudança de sinal no intervalo dado!\n",
      "\n",
      " True None\n",
      "\n",
      "--------------------------------------------------------------------------------------------------------------\n",
      "\n",
      "Erro: não há mudança de sinal no intervalo dado!\n",
      "\n",
      " True None\n",
      "\n",
      "--------------------------------------------------------------------------------------------------------------\n",
      "\n",
      "Erro: não há mudança de sinal no intervalo dado!\n",
      "\n",
      " True None\n",
      "\n",
      "--------------------------------------------------------------------------------------------------------------\n",
      "\n",
      "Erro: não há mudança de sinal no intervalo dado!\n",
      "\n",
      " True None\n",
      "\n",
      "--------------------------------------------------------------------------------------------------------------\n",
      "\n",
      "1\t1.000000e+00\t1.462378e+00\t2.000000e+00\t-1.429846e+00\t1.500000e+00\t2.084541e-01\t5.000000e-01\n",
      "2\t1.500000e+00\t2.084541e-01\t2.000000e+00\t-1.429846e+00\t1.750000e+00\t-5.627628e-01\t2.500000e-01\n",
      "3\t1.500000e+00\t2.084541e-01\t1.750000e+00\t-1.429846e+00\t1.625000e+00\t-1.649180e-01\t1.250000e-01\n",
      "4\t1.500000e+00\t2.084541e-01\t1.625000e+00\t-1.429846e+00\t1.562500e+00\t2.483492e-02\t6.250000e-02\n",
      "5\t1.562500e+00\t2.483492e-02\t1.625000e+00\t-1.429846e+00\t1.593750e+00\t-6.927480e-02\t3.125000e-02\n",
      "6\t1.562500e+00\t2.483492e-02\t1.593750e+00\t-1.429846e+00\t1.578125e+00\t-2.202820e-02\t1.562500e-02\n",
      "7\t1.562500e+00\t2.483492e-02\t1.578125e+00\t-1.429846e+00\t1.570312e+00\t1.451297e-03\t7.812500e-03\n",
      "8\t1.570312e+00\t1.451297e-03\t1.578125e+00\t-1.429846e+00\t1.574219e+00\t-1.027647e-02\t3.906250e-03\n",
      "9\t1.570312e+00\t1.451297e-03\t1.574219e+00\t-1.429846e+00\t1.572266e+00\t-4.409590e-03\t1.953125e-03\n",
      "10\t1.570312e+00\t1.451297e-03\t1.572266e+00\t-1.429846e+00\t1.571289e+00\t-1.478398e-03\t9.765625e-04\n",
      "11\t1.570312e+00\t1.451297e-03\t1.571289e+00\t-1.429846e+00\t1.570801e+00\t-1.336338e-05\t4.882812e-04\n",
      "12\t1.570312e+00\t1.451297e-03\t1.570801e+00\t-1.429846e+00\t1.570557e+00\t7.190134e-04\t2.441406e-04\n",
      "13\t1.570557e+00\t7.190134e-04\t1.570801e+00\t-1.429846e+00\t1.570679e+00\t3.528367e-04\t1.220703e-04\n",
      "14\t1.570679e+00\t3.528367e-04\t1.570801e+00\t-1.429846e+00\t1.570740e+00\t1.697396e-04\t6.103516e-05\n",
      "15\t1.570740e+00\t1.697396e-04\t1.570801e+00\t-1.429846e+00\t1.570770e+00\t7.818884e-05\t3.051758e-05\n",
      "16\t1.570770e+00\t7.818884e-05\t1.570801e+00\t-1.429846e+00\t1.570786e+00\t3.241291e-05\t1.525879e-05\n",
      "17\t1.570786e+00\t3.241291e-05\t1.570801e+00\t-1.429846e+00\t1.570793e+00\t9.524810e-06\t7.629395e-06\n",
      "\n",
      " False 1.5707931518554688\n",
      "\n",
      "--------------------------------------------------------------------------------------------------------------\n",
      "\n",
      "Erro: não há mudança de sinal no intervalo dado!\n",
      "\n",
      " True None\n",
      "\n",
      "--------------------------------------------------------------------------------------------------------------\n",
      "\n",
      "Erro: não há mudança de sinal no intervalo dado!\n",
      "\n",
      " True None\n",
      "\n",
      "--------------------------------------------------------------------------------------------------------------\n",
      "\n",
      "Erro: não há mudança de sinal no intervalo dado!\n",
      "\n",
      " True None\n",
      "\n",
      "--------------------------------------------------------------------------------------------------------------\n",
      "\n",
      "Erro: não há mudança de sinal no intervalo dado!\n",
      "\n",
      " True None\n",
      "\n",
      "--------------------------------------------------------------------------------------------------------------\n",
      "\n"
     ]
    }
   ],
   "source": [
    "a = -6.0\n",
    "b = a + 1\n",
    "for a in range(-6, 6):\n",
    "    b = a + 1\n",
    "    (error, root) = bisec(f4, a=a, b=b, epsilon=0.00001, maxIter=20)\n",
    "    print('\\n', error, root)\n",
    "    print('\\n--------------------------------------------------------------------------------------------------------------\\n')"
   ]
  },
  {
   "cell_type": "markdown",
   "metadata": {},
   "source": [
    "## False Position"
   ]
  },
  {
   "cell_type": "code",
   "execution_count": 11,
   "metadata": {},
   "outputs": [
    {
     "name": "stdout",
     "output_type": "stream",
     "text": [
      "1\t0.000000e+00\t-1.732051e+00\t2.000000e+00\t8.038476e-01\t1.366025e+00\t-8.660254e-01\t2.000000e+00\n",
      "2\t1.366025e+00\t-8.660254e-01\t2.000000e+00\t8.038476e-01\t1.694816e+00\t-1.003416e-01\t6.339746e-01\n",
      "3\t1.694816e+00\t-1.003416e-01\t2.000000e+00\t8.038476e-01\t1.728683e+00\t-9.188836e-03\t3.051843e-01\n",
      "4\t1.728683e+00\t-9.188836e-03\t2.000000e+00\t8.038476e-01\t1.731750e+00\t-8.225593e-04\t2.713167e-01\n",
      "5\t1.731750e+00\t-8.225593e-04\t2.000000e+00\t8.038476e-01\t1.732024e+00\t-7.348279e-05\t2.682503e-01\n",
      "6\t1.732024e+00\t-7.348279e-05\t2.000000e+00\t8.038476e-01\t1.732048e+00\t-6.563335e-06\t2.679761e-01\n"
     ]
    },
    {
     "data": {
      "text/plain": [
       "(False, 1.732048405219302)"
      ]
     },
     "execution_count": 11,
     "metadata": {},
     "output_type": "execute_result"
    }
   ],
   "source": [
    "false_pos(func9, 0, 2, epsilon=0.00001, maxIter=50)"
   ]
  },
  {
   "cell_type": "code",
   "execution_count": 15,
   "metadata": {},
   "outputs": [
    {
     "data": {
      "text/plain": [
       "102.56194784716803"
      ]
     },
     "execution_count": 15,
     "metadata": {},
     "output_type": "execute_result"
    }
   ],
   "source": [
    "b=-2\n",
    "a = -4.0232\n",
    "pb = 15\n",
    "pa=func8(a)\n",
    "x = (a*pb - b*pa)/(pb-pa)\n",
    "pa"
   ]
  },
  {
   "cell_type": "code",
   "execution_count": 16,
   "metadata": {},
   "outputs": [
    {
     "ename": "ZeroDivisionError",
     "evalue": "division by zero",
     "output_type": "error",
     "traceback": [
      "\u001b[1;31m---------------------------------------------------------------------------\u001b[0m",
      "\u001b[1;31mZeroDivisionError\u001b[0m                         Traceback (most recent call last)",
      "\u001b[1;32m<ipython-input-16-5d79c3812715>\u001b[0m in \u001b[0;36m<module>\u001b[1;34m()\u001b[0m\n\u001b[1;32m----> 1\u001b[1;33m \u001b[0mmpf\u001b[0m\u001b[1;33m(\u001b[0m\u001b[0mfunc1\u001b[0m\u001b[1;33m,\u001b[0m \u001b[0mphi1\u001b[0m\u001b[1;33m,\u001b[0m \u001b[1;36m0\u001b[0m\u001b[1;33m,\u001b[0m \u001b[1;36m0.001\u001b[0m\u001b[1;33m,\u001b[0m \u001b[1;36m20\u001b[0m\u001b[1;33m)\u001b[0m\u001b[1;33m\u001b[0m\u001b[0m\n\u001b[0m",
      "\u001b[1;32m<ipython-input-6-03b242adad40>\u001b[0m in \u001b[0;36mmpf\u001b[1;34m(f, iter_func, x0, epsilon, maxIter)\u001b[0m\n\u001b[0;32m      7\u001b[0m \u001b[1;33m\u001b[0m\u001b[0m\n\u001b[0;32m      8\u001b[0m     \u001b[1;32mfor\u001b[0m \u001b[0mk\u001b[0m \u001b[1;32min\u001b[0m \u001b[0mrange\u001b[0m\u001b[1;33m(\u001b[0m\u001b[1;36m1\u001b[0m\u001b[1;33m,\u001b[0m \u001b[0mmaxIter\u001b[0m\u001b[1;33m+\u001b[0m\u001b[1;36m1\u001b[0m\u001b[1;33m)\u001b[0m\u001b[1;33m:\u001b[0m\u001b[1;33m\u001b[0m\u001b[0m\n\u001b[1;32m----> 9\u001b[1;33m         \u001b[0mx\u001b[0m \u001b[1;33m=\u001b[0m \u001b[0miter_func\u001b[0m\u001b[1;33m(\u001b[0m\u001b[0mx0\u001b[0m\u001b[1;33m)\u001b[0m\u001b[1;33m\u001b[0m\u001b[0m\n\u001b[0m\u001b[0;32m     10\u001b[0m \u001b[1;33m\u001b[0m\u001b[0m\n\u001b[0;32m     11\u001b[0m         \u001b[0mprint\u001b[0m\u001b[1;33m(\u001b[0m\u001b[1;34m'Iter        x                f(x)'\u001b[0m\u001b[1;33m)\u001b[0m\u001b[1;33m\u001b[0m\u001b[0m\n",
      "\u001b[1;32m<ipython-input-1-2f7db582fb23>\u001b[0m in \u001b[0;36mphi1\u001b[1;34m(x)\u001b[0m\n\u001b[0;32m      5\u001b[0m \u001b[1;33m\u001b[0m\u001b[0m\n\u001b[0;32m      6\u001b[0m \u001b[1;32mdef\u001b[0m \u001b[0mphi1\u001b[0m\u001b[1;33m(\u001b[0m\u001b[0mx\u001b[0m\u001b[1;33m)\u001b[0m\u001b[1;33m:\u001b[0m\u001b[1;33m\u001b[0m\u001b[0m\n\u001b[1;32m----> 7\u001b[1;33m     \u001b[1;32mreturn\u001b[0m \u001b[1;36m1\u001b[0m\u001b[1;33m/\u001b[0m\u001b[0mx\u001b[0m \u001b[1;33m+\u001b[0m \u001b[1;36m1\u001b[0m\u001b[1;33m/\u001b[0m\u001b[1;33m(\u001b[0m\u001b[0mx\u001b[0m\u001b[1;33m**\u001b[0m\u001b[1;36m2\u001b[0m\u001b[1;33m)\u001b[0m\u001b[1;33m\u001b[0m\u001b[0m\n\u001b[0m\u001b[0;32m      8\u001b[0m \u001b[1;33m\u001b[0m\u001b[0m\n\u001b[0;32m      9\u001b[0m \u001b[1;32mdef\u001b[0m \u001b[0mfunc2\u001b[0m\u001b[1;33m(\u001b[0m\u001b[0mx\u001b[0m\u001b[1;33m)\u001b[0m\u001b[1;33m:\u001b[0m\u001b[1;33m\u001b[0m\u001b[0m\n",
      "\u001b[1;31mZeroDivisionError\u001b[0m: division by zero"
     ]
    }
   ],
   "source": [
    "mpf(func1, phi1, 0, 0.001, 20)"
   ]
  },
  {
   "cell_type": "markdown",
   "metadata": {},
   "source": [
    "## Measuring execution time"
   ]
  },
  {
   "cell_type": "code",
   "execution_count": 21,
   "metadata": {
    "collapsed": true
   },
   "outputs": [],
   "source": [
    "from timeit import default_timer as timer"
   ]
  },
  {
   "cell_type": "code",
   "execution_count": 22,
   "metadata": {},
   "outputs": [
    {
     "name": "stdout",
     "output_type": "stream",
     "text": [
      "Tempo de execução: 1.887902e-05 segundos\n"
     ]
    }
   ],
   "source": [
    "start = timer()\n",
    "end = timer()\n",
    "\n",
    "print('Tempo de execução: %e segundos' % (end - start))"
   ]
  },
  {
   "cell_type": "code",
   "execution_count": null,
   "metadata": {
    "collapsed": true
   },
   "outputs": [],
   "source": []
  }
 ],
 "metadata": {
  "kernelspec": {
   "display_name": "Python 3",
   "language": "python",
   "name": "python3"
  },
  "language_info": {
   "codemirror_mode": {
    "name": "ipython",
    "version": 3
   },
   "file_extension": ".py",
   "mimetype": "text/x-python",
   "name": "python",
   "nbconvert_exporter": "python",
   "pygments_lexer": "ipython3",
   "version": "3.6.3"
  }
 },
 "nbformat": 4,
 "nbformat_minor": 2
}
