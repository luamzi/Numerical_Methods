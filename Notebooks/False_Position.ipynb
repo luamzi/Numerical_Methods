{
 "cells": [
  {
   "cell_type": "markdown",
   "metadata": {},
   "source": [
    "## False Position Method"
   ]
  },
  {
   "cell_type": "markdown",
   "metadata": {},
   "source": [
    "for a given funtion f, an interval [a, b], a tolerance epsilon and an maximum iteration"
   ]
  },
  {
   "cell_type": "code",
   "execution_count": 43,
   "metadata": {
    "collapsed": true
   },
   "outputs": [],
   "source": [
    "def false_pos(f, a, b, epsilon, maxIter=100):\n",
    "    Fa = f(a); Fb = f(b)\n",
    "    \n",
    "    #if a or b are roots\n",
    "    if Fa == 0:\n",
    "        return (False, a)\n",
    "    elif Fb == 0:\n",
    "        return (False, b)\n",
    "    \n",
    "    #testing the signal\n",
    "    if Fa*Fb > 0:\n",
    "        print('Erro: não há mudança de sinal no intervalo dado!')\n",
    "        return (True, None)\n",
    "    \n",
    "    #making sure f(a) is the negative value\n",
    "    if Fa > 0:\n",
    "        aux = a; a = b; b = aux\n",
    "        aux = Fa; Fa = Fb; Fb = aux\n",
    "    \n",
    "    for i in range(maxIter):\n",
    "        x = (a*Fb - b*Fa)/(Fb - Fa); Fx = f(x)\n",
    "        \n",
    "        deltaX = abs(b - a)\n",
    "        \n",
    "        print(\"%d\\t%e\\t%e\\t%e\\t%e\\t%e\\t%e\\t%e\"%(i, a, Fa, b, Fb, x, Fx, deltaX))\n",
    "        \n",
    "        #criteria for stopping the algorithm\n",
    "        if (deltaX <= epsilon) or (abs(Fx) <= epsilon):\n",
    "            break\n",
    "        \n",
    "        #update the values of a, b, f(b) and f(a) based on the value of f(x)\n",
    "        if Fx < 0:\n",
    "            a = x; Fa = Fx\n",
    "        else:\n",
    "            b = x; Fb = Fx\n",
    "    \n",
    "    #convergence test\n",
    "    if deltaX <= epsilon or abs(Fx) <= epsilon:\n",
    "        error = False\n",
    "    else:\n",
    "        error = True\n",
    "    \n",
    "    return (error, x)        "
   ]
  },
  {
   "cell_type": "code",
   "execution_count": 38,
   "metadata": {
    "collapsed": true
   },
   "outputs": [],
   "source": [
    "def f(x):\n",
    "    return (x**3 - 9*x + 3)"
   ]
  },
  {
   "cell_type": "code",
   "execution_count": 39,
   "metadata": {
    "collapsed": true
   },
   "outputs": [],
   "source": [
    "import numpy as np"
   ]
  },
  {
   "cell_type": "code",
   "execution_count": 40,
   "metadata": {
    "collapsed": true
   },
   "outputs": [],
   "source": [
    "def F(x):\n",
    "    return x - np.tan(x)"
   ]
  },
  {
   "cell_type": "code",
   "execution_count": 44,
   "metadata": {},
   "outputs": [
    {
     "name": "stdout",
     "output_type": "stream",
     "text": [
      "0\t1.000000e+00\t-5.000000e+00\t0.000000e+00\t3.000000e+00\t3.750000e-01\t-3.222656e-01\t1.000000e+00\n",
      "1\t3.750000e-01\t-3.222656e-01\t0.000000e+00\t3.000000e+00\t3.386243e-01\t-8.790199e-03\t3.750000e-01\n",
      "2\t3.386243e-01\t-8.790199e-03\t0.000000e+00\t3.000000e+00\t3.376350e-01\t-2.258842e-04\t3.386243e-01\n"
     ]
    }
   ],
   "source": [
    "(error, root) = false_pos(f, a=0.0, b=1.0, epsilon=0.001, maxIter=20)"
   ]
  },
  {
   "cell_type": "code",
   "execution_count": 35,
   "metadata": {},
   "outputs": [
    {
     "data": {
      "text/plain": [
       "(False, 0.3376089559658378)"
      ]
     },
     "execution_count": 35,
     "metadata": {},
     "output_type": "execute_result"
    }
   ],
   "source": [
    "(error, root)"
   ]
  },
  {
   "cell_type": "markdown",
   "metadata": {},
   "source": [
    "### Measuring execution time"
   ]
  },
  {
   "cell_type": "code",
   "execution_count": 27,
   "metadata": {
    "collapsed": true
   },
   "outputs": [],
   "source": [
    "from timeit import default_timer as timer"
   ]
  },
  {
   "cell_type": "code",
   "execution_count": 29,
   "metadata": {},
   "outputs": [
    {
     "name": "stdout",
     "output_type": "stream",
     "text": [
      "Tempo de execução: 1.925662e-05 segundos\n"
     ]
    }
   ],
   "source": [
    "start = timer()\n",
    "end = timer()\n",
    "\n",
    "print('Tempo de execução: %e segundos' % (end - start))"
   ]
  },
  {
   "cell_type": "code",
   "execution_count": null,
   "metadata": {
    "collapsed": true
   },
   "outputs": [],
   "source": []
  }
 ],
 "metadata": {
  "kernelspec": {
   "display_name": "Python 3",
   "language": "python",
   "name": "python3"
  },
  "language_info": {
   "codemirror_mode": {
    "name": "ipython",
    "version": 3
   },
   "file_extension": ".py",
   "mimetype": "text/x-python",
   "name": "python",
   "nbconvert_exporter": "python",
   "pygments_lexer": "ipython3",
   "version": "3.6.3"
  }
 },
 "nbformat": 4,
 "nbformat_minor": 2
}
