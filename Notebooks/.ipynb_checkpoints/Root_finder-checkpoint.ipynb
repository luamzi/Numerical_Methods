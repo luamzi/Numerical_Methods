{
 "cells": [
  {
   "cell_type": "markdown",
   "metadata": {},
   "source": [
    "** Defining new functions **"
   ]
  },
  {
   "cell_type": "code",
   "execution_count": 121,
   "metadata": {},
   "outputs": [],
   "source": [
    "from math import cos, sin, log, exp\n",
    "\n",
    "def func1(x):\n",
    "    return x**3 - x - 1\n",
    "\n",
    "def phi1(x):\n",
    "    return (x+1)**(1/3)\n",
    "\n",
    "def func2(x):\n",
    "    return (x**4 - 6*(x**3) + 10*(x**2) - 6*x + 9)\n",
    "\n",
    "def phi2(x):\n",
    "    return 0.19 + x*func2(x)\n",
    "\n",
    "def func3(x):\n",
    "    return math.exp(-(x**2)) - math.cos(x)\n",
    "\n",
    "def phi3(x):\n",
    "    return math.cos(x) - math.exp(-(x**2))\n",
    "\n",
    "def func4(x):\n",
    "    return 4*sin(x) - exp(x)\n",
    "\n",
    "def phi4(x):\n",
    "    return x - 2*sin(x) + 0.5*exp(0.5)\n",
    "\n",
    "def func5(x):\n",
    "    return x*log(x) - 1\n",
    "\n",
    "def phi5(x):\n",
    "    return x - 1.3*(x*log(x) - 1)\n",
    "\n",
    "def func6(x):\n",
    "    return x*sin(x) + 3*cos(x) - x"
   ]
  },
  {
   "cell_type": "markdown",
   "metadata": {},
   "source": [
    "## Bisection Method"
   ]
  },
  {
   "cell_type": "markdown",
   "metadata": {},
   "source": [
    "for a given funtion f, an interval [a, b], a tolerance epsilon and an maximum iteration"
   ]
  },
  {
   "cell_type": "code",
   "execution_count": 122,
   "metadata": {
    "collapsed": true
   },
   "outputs": [],
   "source": [
    "def bisec(f, a, b, epsilon, maxIter = 100):\n",
    "    #toma os valores de f(a) e f(b)\n",
    "    Fa = f(a); Fb = f(b)\n",
    "\n",
    "    if round(Fa, 2) == 0:\n",
    "        return (False, a)\n",
    "    elif round(Fb, 2) == 0:\n",
    "        return (False, b)\n",
    "    \n",
    "    #testing the signal\n",
    "    if Fa*Fb > 0:\n",
    "        print('Erro: não há mudança de sinal no intervalo dado!')\n",
    "        return (True, None)\n",
    "    \n",
    "    #initializes the initial range\n",
    "    deltaX = abs(b - a)/2\n",
    "    \n",
    "    for i in range(1, maxIter+1):\n",
    "        #takes x on the half of the interval or its value at the given point\n",
    "        x = (a + b)/2; Fx = f(x)\n",
    "        \n",
    "        print(\"%d\\t%e\\t%e\\t%e\\t%e\\t%e\\t%e\\t%e\"%(i, a, Fa, b, Fb, x, Fx, deltaX))\n",
    "        \n",
    "        #criteria for stopping the algorithm\n",
    "        if (deltaX <= epsilon) or (abs(Fx) <= epsilon):\n",
    "            break\n",
    "        \n",
    "        #update the values of a or b by testing the signals\n",
    "        if Fa*Fx > 0: #se f(a) e f(x) tiverem o mesmo sinal\n",
    "            a = x; Fa = Fx\n",
    "        else:\n",
    "            b = x\n",
    "        \n",
    "        #update the range\n",
    "        deltaX = deltaX/2\n",
    "    \n",
    "    #convergence test\n",
    "    if deltaX <= epsilon or abs(Fx) <= epsilon:\n",
    "        error = False\n",
    "    else:\n",
    "        error = True\n",
    "    \n",
    "    return (error, x)"
   ]
  },
  {
   "cell_type": "markdown",
   "metadata": {},
   "source": [
    "## False Position Method"
   ]
  },
  {
   "cell_type": "code",
   "execution_count": 123,
   "metadata": {
    "collapsed": true
   },
   "outputs": [],
   "source": [
    "def false_pos(f, a, b, epsilon, maxIter=100):\n",
    "    Fa = f(a); Fb = f(b)\n",
    "    \n",
    "    #if a or b are roots\n",
    "    if Fa == 0:\n",
    "        return (False, a)\n",
    "    elif Fb == 0:\n",
    "        return (False, b)\n",
    "    \n",
    "    #testing the signal\n",
    "    if Fa*Fb > 0:\n",
    "        print('Erro: não há mudança de sinal no intervalo dado!')\n",
    "        return (True, None)\n",
    "    \n",
    "    #making sure f(a) is the negative value\n",
    "    if Fa > 0:\n",
    "        aux = a; a = b; b = aux\n",
    "        aux = Fa; Fa = Fb; Fb = aux\n",
    "    \n",
    "    for i in range(1, maxIter+1):\n",
    "        x = (a*Fb - b*Fa)/(Fb - Fa); Fx = f(x)\n",
    "        \n",
    "        deltaX = abs(b - a)\n",
    "        \n",
    "        print(\"%d\\t%e\\t%e\\t%e\\t%e\\t%e\\t%e\\t%e\"%(i, a, Fa, b, Fb, x, Fx, deltaX))\n",
    "        \n",
    "        #criteria for stopping the algorithm\n",
    "        if (deltaX <= epsilon) or (abs(Fx) <= epsilon):\n",
    "            break\n",
    "        \n",
    "        #update the values of a, b, f(b) and f(a) based on the value of f(x)\n",
    "        if Fx < 0:\n",
    "            a = x; Fa = Fx\n",
    "        else:\n",
    "            b = x; Fb = Fx\n",
    "    \n",
    "    #convergence test\n",
    "    if deltaX <= epsilon or abs(Fx) <= epsilon:\n",
    "        error = False\n",
    "    else:\n",
    "        error = True\n",
    "    \n",
    "    return (error, x)    "
   ]
  },
  {
   "cell_type": "markdown",
   "metadata": {},
   "source": [
    "## Fixed Point"
   ]
  },
  {
   "cell_type": "markdown",
   "metadata": {},
   "source": [
    "** Supõem-se satisfeitas as condições do teorema de convergência da função phi(x) = x **"
   ]
  },
  {
   "cell_type": "code",
   "execution_count": 124,
   "metadata": {
    "collapsed": true
   },
   "outputs": [],
   "source": [
    "def mpf(f, iter_func, x0, epsilon, maxIter):\n",
    "    \n",
    "    #check if the criteria for stopping has been achieved\n",
    "    if abs(f(x0)) < epsilon:\n",
    "        x = x0\n",
    "        return (False, x)\n",
    "    \n",
    "    for k in range(1, maxIter+1):\n",
    "        x = iter_func(x0)\n",
    "        \n",
    "        print('Iter        x                f(x)')\n",
    "        print(\"%d\\t%e\\t%e\"%(k, x, f(x)))\n",
    "        print('-------------------------------------')\n",
    "        \n",
    "        if abs(f(x)) < epsilon:\n",
    "            return (False, x)\n",
    "        x0 = x\n",
    "    \n",
    "    return (True, None)"
   ]
  },
  {
   "cell_type": "code",
   "execution_count": 157,
   "metadata": {
    "scrolled": true
   },
   "outputs": [
    {
     "name": "stdout",
     "output_type": "stream",
     "text": [
      "Iter        x                f(x)\n",
      "1\t-1.238866e-02\t-7.672870e-05\n",
      "-------------------------------------\n",
      "Iter        x                f(x)\n",
      "2\t7.672870e-05\t-2.943647e-09\n",
      "-------------------------------------\n"
     ]
    },
    {
     "data": {
      "text/plain": [
       "(False, 7.672869854591369e-05)"
      ]
     },
     "execution_count": 157,
     "metadata": {},
     "output_type": "execute_result"
    }
   ],
   "source": [
    "mpf(func3, iter_func=phi3, x0=4.699999999999999, epsilon=0.00001, maxIter=50)"
   ]
  },
  {
   "cell_type": "code",
   "execution_count": 158,
   "metadata": {},
   "outputs": [
    {
     "data": {
      "text/plain": [
       "-2.9436466597587696e-09"
      ]
     },
     "execution_count": 158,
     "metadata": {},
     "output_type": "execute_result"
    }
   ],
   "source": [
    "func3(7.672869854591369e-05)"
   ]
  },
  {
   "cell_type": "markdown",
   "metadata": {},
   "source": [
    "## Newton-Raphson Method"
   ]
  },
  {
   "cell_type": "markdown",
   "metadata": {},
   "source": [
    "** Decrease number of iterations, choosing such iter fuction that its derivative is null **"
   ]
  },
  {
   "cell_type": "code",
   "execution_count": 6,
   "metadata": {
    "collapsed": true
   },
   "outputs": [],
   "source": [
    "def newton_raphson(f, df, x0, epsilon, maxIter):\n",
    "    \n",
    "    #check if the criteria for stopping has been achieved\n",
    "    if abs(f(x0)) < epsilon:\n",
    "        x = x0\n",
    "        return (False, x)\n",
    "    \n",
    "    for k in range(1, maxIter+1):\n",
    "        x = x0 - (f(x0)/df(x0))\n",
    "        \n",
    "        print('Iter        x                f(x)')\n",
    "        print(\"%d\\t%e\\t%e\"%(k, x, f(x)))\n",
    "        print('-------------------------------------')\n",
    "        \n",
    "        if abs(f(x)) < epsilon:\n",
    "            return (False, x)\n",
    "        x0 = x\n",
    "    \n",
    "    return (True, None)"
   ]
  },
  {
   "cell_type": "code",
   "execution_count": 160,
   "metadata": {},
   "outputs": [],
   "source": [
    "#def df(x):\n",
    "#    return [derivative function]"
   ]
  },
  {
   "cell_type": "markdown",
   "metadata": {},
   "source": [
    "## Incremental Search"
   ]
  },
  {
   "cell_type": "code",
   "execution_count": 29,
   "metadata": {
    "collapsed": true
   },
   "outputs": [],
   "source": [
    "def inc_search(f, a, b, dx):\n",
    "    x1 = a\n",
    "    f1 = f(a)\n",
    "    x2 = a + dx\n",
    "    f2 = f(x2)\n",
    "\n",
    "    while f1*f2 >= 0:\n",
    "        if x1 >= b:\n",
    "            return (None,None)\n",
    "        x1 = x2\n",
    "        f1 = f2\n",
    "        x2 = x1 + dx\n",
    "        f2 = f(x2)\n",
    "    else:\n",
    "        return x1,x2"
   ]
  },
  {
   "cell_type": "markdown",
   "metadata": {},
   "source": [
    "### Define functions"
   ]
  },
  {
   "cell_type": "code",
   "execution_count": 19,
   "metadata": {
    "collapsed": true
   },
   "outputs": [],
   "source": [
    "import numpy as np"
   ]
  },
  {
   "cell_type": "code",
   "execution_count": 20,
   "metadata": {
    "collapsed": true
   },
   "outputs": [],
   "source": [
    "def f(x): #tested!\n",
    "    return (x**3 - 9*x + 3)\n",
    "\n",
    "def f1(x): #tested!\n",
    "    return (x**3 - 10*(x**2) + 5)\n",
    "\n",
    "def f2(x): #tested!\n",
    "    return (1/((x-0.3)**2 + 0.01) - 1/((x-0.8)**2 + 0.04))\n",
    "\n",
    "def f3(x): #tested!\n",
    "    return np.cosh(x)*np.cos(x)\n",
    "\n",
    "def f4(x):\n",
    "    return (x*np.sin(x)+3*np.cos(x)-x)\n",
    "\n",
    "def f5(x):\n",
    "    return np.cos(x) - 3*np.sin(np.tan(x)-1)\n",
    "\n",
    "def f6(x):\n",
    "    return x-np.tan(x)"
   ]
  },
  {
   "cell_type": "markdown",
   "metadata": {},
   "source": [
    "## Testing the methods"
   ]
  },
  {
   "cell_type": "markdown",
   "metadata": {},
   "source": [
    "### Bisection"
   ]
  },
  {
   "cell_type": "code",
   "execution_count": 14,
   "metadata": {
    "scrolled": false
   },
   "outputs": [
    {
     "name": "stdout",
     "output_type": "stream",
     "text": [
      "Erro: não há mudança de sinal no intervalo dado!\n",
      "\n",
      " True None\n",
      "\n",
      "--------------------------------------------------------------------------------------------------------------\n",
      "\n",
      "1\t-5.000000e+00\t1.056365e+00\t-4.000000e+00\t-9.881408e-01\t-4.500000e+00\t-5.312729e-01\t5.000000e-01\n",
      "2\t-5.000000e+00\t1.056365e+00\t-4.500000e+00\t-9.881408e-01\t-4.750000e+00\t1.161657e-01\t2.500000e-01\n",
      "3\t-4.750000e+00\t1.161657e-01\t-4.500000e+00\t-9.881408e-01\t-4.625000e+00\t-2.441844e-01\t1.250000e-01\n",
      "4\t-4.750000e+00\t1.161657e-01\t-4.625000e+00\t-9.881408e-01\t-4.687500e+00\t-7.320744e-02\t6.250000e-02\n",
      "5\t-4.750000e+00\t1.161657e-01\t-4.687500e+00\t-9.881408e-01\t-4.718750e+00\t1.917840e-02\t3.125000e-02\n",
      "6\t-4.718750e+00\t1.917840e-02\t-4.687500e+00\t-9.881408e-01\t-4.703125e+00\t-2.758973e-02\t1.562500e-02\n",
      "7\t-4.718750e+00\t1.917840e-02\t-4.703125e+00\t-9.881408e-01\t-4.710938e+00\t-4.349477e-03\t7.812500e-03\n",
      "8\t-4.718750e+00\t1.917840e-02\t-4.710938e+00\t-9.881408e-01\t-4.714844e+00\t7.378507e-03\t3.906250e-03\n",
      "9\t-4.714844e+00\t7.378507e-03\t-4.710938e+00\t-9.881408e-01\t-4.712891e+00\t1.505527e-03\t1.953125e-03\n",
      "10\t-4.712891e+00\t1.505527e-03\t-4.710938e+00\t-9.881408e-01\t-4.711914e+00\t-1.424222e-03\t9.765625e-04\n",
      "11\t-4.712891e+00\t1.505527e-03\t-4.711914e+00\t-9.881408e-01\t-4.712402e+00\t4.009052e-05\t4.882812e-04\n",
      "12\t-4.712402e+00\t4.009052e-05\t-4.711914e+00\t-9.881408e-01\t-4.712158e+00\t-6.922063e-04\t2.441406e-04\n",
      "13\t-4.712402e+00\t4.009052e-05\t-4.712158e+00\t-9.881408e-01\t-4.712280e+00\t-3.260930e-04\t1.220703e-04\n",
      "14\t-4.712402e+00\t4.009052e-05\t-4.712280e+00\t-9.881408e-01\t-4.712341e+00\t-1.430100e-04\t6.103516e-05\n",
      "15\t-4.712402e+00\t4.009052e-05\t-4.712341e+00\t-9.881408e-01\t-4.712372e+00\t-5.146195e-05\t3.051758e-05\n",
      "16\t-4.712402e+00\t4.009052e-05\t-4.712372e+00\t-9.881408e-01\t-4.712387e+00\t-5.686263e-06\t1.525879e-05\n",
      "\n",
      " False -4.7123870849609375\n",
      "\n",
      "--------------------------------------------------------------------------------------------------------------\n",
      "\n",
      "1\t-4.000000e+00\t-9.881408e-01\t-3.000000e+00\t4.533825e-01\t-3.500000e+00\t-5.371114e-01\t5.000000e-01\n",
      "2\t-3.500000e+00\t-5.371114e-01\t-3.000000e+00\t4.533825e-01\t-3.250000e+00\t-8.402322e-02\t2.500000e-01\n",
      "3\t-3.250000e+00\t-8.402322e-02\t-3.000000e+00\t4.533825e-01\t-3.125000e+00\t1.772626e-01\t1.250000e-01\n",
      "4\t-3.250000e+00\t-8.402322e-02\t-3.125000e+00\t4.533825e-01\t-3.187500e+00\t4.438240e-02\t6.250000e-02\n",
      "5\t-3.250000e+00\t-8.402322e-02\t-3.187500e+00\t4.533825e-01\t-3.218750e+00\t-2.042841e-02\t3.125000e-02\n",
      "6\t-3.218750e+00\t-2.042841e-02\t-3.187500e+00\t4.533825e-01\t-3.203125e+00\t1.183111e-02\t1.562500e-02\n",
      "7\t-3.218750e+00\t-2.042841e-02\t-3.203125e+00\t4.533825e-01\t-3.210938e+00\t-4.335886e-03\t7.812500e-03\n",
      "8\t-3.210938e+00\t-4.335886e-03\t-3.203125e+00\t4.533825e-01\t-3.207031e+00\t3.738397e-03\t3.906250e-03\n",
      "9\t-3.210938e+00\t-4.335886e-03\t-3.207031e+00\t4.533825e-01\t-3.208984e+00\t-3.010597e-04\t1.953125e-03\n",
      "10\t-3.208984e+00\t-3.010597e-04\t-3.207031e+00\t4.533825e-01\t-3.208008e+00\t1.718091e-03\t9.765625e-04\n",
      "11\t-3.208984e+00\t-3.010597e-04\t-3.208008e+00\t4.533825e-01\t-3.208496e+00\t7.083714e-04\t4.882812e-04\n",
      "12\t-3.208984e+00\t-3.010597e-04\t-3.208496e+00\t4.533825e-01\t-3.208740e+00\t2.036197e-04\t2.441406e-04\n",
      "13\t-3.208984e+00\t-3.010597e-04\t-3.208740e+00\t4.533825e-01\t-3.208862e+00\t-4.872905e-05\t1.220703e-04\n",
      "14\t-3.208862e+00\t-4.872905e-05\t-3.208740e+00\t4.533825e-01\t-3.208801e+00\t7.744305e-05\t6.103516e-05\n",
      "15\t-3.208862e+00\t-4.872905e-05\t-3.208801e+00\t4.533825e-01\t-3.208832e+00\t1.435643e-05\t3.051758e-05\n",
      "16\t-3.208862e+00\t-4.872905e-05\t-3.208832e+00\t4.533825e-01\t-3.208847e+00\t-1.718645e-05\t1.525879e-05\n",
      "17\t-3.208847e+00\t-1.718645e-05\t-3.208832e+00\t4.533825e-01\t-3.208839e+00\t-1.415043e-06\t7.629395e-06\n",
      "\n",
      " False -3.2088394165039062\n",
      "\n",
      "--------------------------------------------------------------------------------------------------------------\n",
      "\n",
      "Erro: não há mudança de sinal no intervalo dado!\n",
      "\n",
      " True None\n",
      "\n",
      "--------------------------------------------------------------------------------------------------------------\n",
      "\n",
      "Erro: não há mudança de sinal no intervalo dado!\n",
      "\n",
      " True None\n",
      "\n",
      "--------------------------------------------------------------------------------------------------------------\n",
      "\n",
      "Erro: não há mudança de sinal no intervalo dado!\n",
      "\n",
      " True None\n",
      "\n",
      "--------------------------------------------------------------------------------------------------------------\n",
      "\n",
      "Erro: não há mudança de sinal no intervalo dado!\n",
      "\n",
      " True None\n",
      "\n",
      "--------------------------------------------------------------------------------------------------------------\n",
      "\n",
      "1\t1.000000e+00\t1.462378e+00\t2.000000e+00\t-1.429846e+00\t1.500000e+00\t2.084541e-01\t5.000000e-01\n",
      "2\t1.500000e+00\t2.084541e-01\t2.000000e+00\t-1.429846e+00\t1.750000e+00\t-5.627628e-01\t2.500000e-01\n",
      "3\t1.500000e+00\t2.084541e-01\t1.750000e+00\t-1.429846e+00\t1.625000e+00\t-1.649180e-01\t1.250000e-01\n",
      "4\t1.500000e+00\t2.084541e-01\t1.625000e+00\t-1.429846e+00\t1.562500e+00\t2.483492e-02\t6.250000e-02\n",
      "5\t1.562500e+00\t2.483492e-02\t1.625000e+00\t-1.429846e+00\t1.593750e+00\t-6.927480e-02\t3.125000e-02\n",
      "6\t1.562500e+00\t2.483492e-02\t1.593750e+00\t-1.429846e+00\t1.578125e+00\t-2.202820e-02\t1.562500e-02\n",
      "7\t1.562500e+00\t2.483492e-02\t1.578125e+00\t-1.429846e+00\t1.570312e+00\t1.451297e-03\t7.812500e-03\n",
      "8\t1.570312e+00\t1.451297e-03\t1.578125e+00\t-1.429846e+00\t1.574219e+00\t-1.027647e-02\t3.906250e-03\n",
      "9\t1.570312e+00\t1.451297e-03\t1.574219e+00\t-1.429846e+00\t1.572266e+00\t-4.409590e-03\t1.953125e-03\n",
      "10\t1.570312e+00\t1.451297e-03\t1.572266e+00\t-1.429846e+00\t1.571289e+00\t-1.478398e-03\t9.765625e-04\n",
      "11\t1.570312e+00\t1.451297e-03\t1.571289e+00\t-1.429846e+00\t1.570801e+00\t-1.336338e-05\t4.882812e-04\n",
      "12\t1.570312e+00\t1.451297e-03\t1.570801e+00\t-1.429846e+00\t1.570557e+00\t7.190134e-04\t2.441406e-04\n",
      "13\t1.570557e+00\t7.190134e-04\t1.570801e+00\t-1.429846e+00\t1.570679e+00\t3.528367e-04\t1.220703e-04\n",
      "14\t1.570679e+00\t3.528367e-04\t1.570801e+00\t-1.429846e+00\t1.570740e+00\t1.697396e-04\t6.103516e-05\n",
      "15\t1.570740e+00\t1.697396e-04\t1.570801e+00\t-1.429846e+00\t1.570770e+00\t7.818884e-05\t3.051758e-05\n",
      "16\t1.570770e+00\t7.818884e-05\t1.570801e+00\t-1.429846e+00\t1.570786e+00\t3.241291e-05\t1.525879e-05\n",
      "17\t1.570786e+00\t3.241291e-05\t1.570801e+00\t-1.429846e+00\t1.570793e+00\t9.524810e-06\t7.629395e-06\n",
      "\n",
      " False 1.5707931518554688\n",
      "\n",
      "--------------------------------------------------------------------------------------------------------------\n",
      "\n",
      "Erro: não há mudança de sinal no intervalo dado!\n",
      "\n",
      " True None\n",
      "\n",
      "--------------------------------------------------------------------------------------------------------------\n",
      "\n",
      "Erro: não há mudança de sinal no intervalo dado!\n",
      "\n",
      " True None\n",
      "\n",
      "--------------------------------------------------------------------------------------------------------------\n",
      "\n",
      "Erro: não há mudança de sinal no intervalo dado!\n",
      "\n",
      " True None\n",
      "\n",
      "--------------------------------------------------------------------------------------------------------------\n",
      "\n",
      "Erro: não há mudança de sinal no intervalo dado!\n",
      "\n",
      " True None\n",
      "\n",
      "--------------------------------------------------------------------------------------------------------------\n",
      "\n"
     ]
    }
   ],
   "source": [
    "a = -6.0\n",
    "b = a + 1\n",
    "for a in range(-6, 6):\n",
    "    b = a + 1\n",
    "    (error, root) = bisec(f4, a=a, b=b, epsilon=0.00001, maxIter=20)\n",
    "    print('\\n', error, root)\n",
    "    print('\\n--------------------------------------------------------------------------------------------------------------\\n')"
   ]
  },
  {
   "cell_type": "markdown",
   "metadata": {},
   "source": [
    "### False Position"
   ]
  },
  {
   "cell_type": "code",
   "execution_count": 15,
   "metadata": {},
   "outputs": [
    {
     "name": "stdout",
     "output_type": "stream",
     "text": [
      "Erro: não há mudança de sinal no intervalo dado!\n",
      "\n",
      " True None\n",
      "\n",
      "--------------------------------------------------------------------------------------------------------------\n",
      "\n",
      "1\t-4.000000e+00\t-9.881408e-01\t-5.000000e+00\t1.056365e+00\t-4.483315e+00\t-5.641097e-01\t1.000000e+00\n",
      "2\t-4.483315e+00\t-5.641097e-01\t-5.000000e+00\t1.056365e+00\t-4.663180e+00\t-1.419216e-01\t5.166848e-01\n",
      "3\t-4.663180e+00\t-1.419216e-01\t-5.000000e+00\t1.056365e+00\t-4.703072e+00\t-2.774561e-02\t3.368197e-01\n",
      "4\t-4.703072e+00\t-2.774561e-02\t-5.000000e+00\t1.056365e+00\t-4.710672e+00\t-5.145396e-03\t2.969277e-01\n",
      "5\t-4.710672e+00\t-5.145396e-03\t-5.000000e+00\t1.056365e+00\t-4.712074e+00\t-9.447790e-04\t2.893285e-01\n",
      "6\t-4.712074e+00\t-9.447790e-04\t-5.000000e+00\t1.056365e+00\t-4.712331e+00\t-1.731600e-04\t2.879260e-01\n",
      "7\t-4.712331e+00\t-1.731600e-04\t-5.000000e+00\t1.056365e+00\t-4.712378e+00\t-3.172628e-05\t2.876687e-01\n",
      "8\t-4.712378e+00\t-3.172628e-05\t-5.000000e+00\t1.056365e+00\t-4.712387e+00\t-5.812515e-06\t2.876216e-01\n",
      "\n",
      " False -4.712387042876607\n",
      "\n",
      "--------------------------------------------------------------------------------------------------------------\n",
      "\n",
      "1\t-4.000000e+00\t-9.881408e-01\t-3.000000e+00\t4.533825e-01\t-3.314516e+00\t-2.110474e-01\t1.000000e+00\n",
      "2\t-3.314516e+00\t-2.110474e-01\t-3.000000e+00\t4.533825e-01\t-3.214614e+00\t-1.191891e-02\t3.145163e-01\n",
      "3\t-3.214614e+00\t-1.191891e-02\t-3.000000e+00\t4.533825e-01\t-3.209117e+00\t-5.749121e-04\t2.146143e-01\n",
      "4\t-3.209117e+00\t-5.749121e-04\t-3.000000e+00\t4.533825e-01\t-3.208852e+00\t-2.749325e-05\t2.091169e-01\n",
      "5\t-3.208852e+00\t-2.749325e-05\t-3.000000e+00\t4.533825e-01\t-3.208839e+00\t-1.314228e-06\t2.088520e-01\n",
      "\n",
      " False -3.2088393677347344\n",
      "\n",
      "--------------------------------------------------------------------------------------------------------------\n",
      "\n",
      "Erro: não há mudança de sinal no intervalo dado!\n",
      "\n",
      " True None\n",
      "\n",
      "--------------------------------------------------------------------------------------------------------------\n",
      "\n",
      "Erro: não há mudança de sinal no intervalo dado!\n",
      "\n",
      " True None\n",
      "\n",
      "--------------------------------------------------------------------------------------------------------------\n",
      "\n",
      "Erro: não há mudança de sinal no intervalo dado!\n",
      "\n",
      " True None\n",
      "\n",
      "--------------------------------------------------------------------------------------------------------------\n",
      "\n",
      "Erro: não há mudança de sinal no intervalo dado!\n",
      "\n",
      " True None\n",
      "\n",
      "--------------------------------------------------------------------------------------------------------------\n",
      "\n",
      "1\t2.000000e+00\t-1.429846e+00\t1.000000e+00\t1.462378e+00\t1.505624e+00\t1.921820e-01\t1.000000e+00\n",
      "2\t2.000000e+00\t-1.429846e+00\t1.505624e+00\t1.921820e-01\t1.564199e+00\t1.975778e-02\t4.943759e-01\n",
      "3\t2.000000e+00\t-1.429846e+00\t1.564199e+00\t1.975778e-02\t1.570139e+00\t1.972006e-03\t4.358010e-01\n",
      "4\t2.000000e+00\t-1.429846e+00\t1.570139e+00\t1.972006e-03\t1.570731e+00\t1.962318e-04\t4.298611e-01\n",
      "5\t2.000000e+00\t-1.429846e+00\t1.570731e+00\t1.962318e-04\t1.570790e+00\t1.952091e-05\t4.292691e-01\n",
      "6\t2.000000e+00\t-1.429846e+00\t1.570790e+00\t1.952091e-05\t1.570796e+00\t1.941859e-06\t4.292102e-01\n",
      "\n",
      " False 1.570795679508495\n",
      "\n",
      "--------------------------------------------------------------------------------------------------------------\n",
      "\n",
      "Erro: não há mudança de sinal no intervalo dado!\n",
      "\n",
      " True None\n",
      "\n",
      "--------------------------------------------------------------------------------------------------------------\n",
      "\n",
      "Erro: não há mudança de sinal no intervalo dado!\n",
      "\n",
      " True None\n",
      "\n",
      "--------------------------------------------------------------------------------------------------------------\n",
      "\n",
      "Erro: não há mudança de sinal no intervalo dado!\n",
      "\n",
      " True None\n",
      "\n",
      "--------------------------------------------------------------------------------------------------------------\n",
      "\n",
      "Erro: não há mudança de sinal no intervalo dado!\n",
      "\n",
      " True None\n",
      "\n",
      "--------------------------------------------------------------------------------------------------------------\n",
      "\n"
     ]
    }
   ],
   "source": [
    "a = -6.0\n",
    "b = a + 1\n",
    "for a in range(-6, 6):\n",
    "    b = a + 1\n",
    "    (error, root) = false_pos(f4, a=a, b=b, epsilon=0.00001, maxIter=20)\n",
    "    print('\\n', error, root)\n",
    "    print('\\n--------------------------------------------------------------------------------------------------------------\\n')"
   ]
  },
  {
   "cell_type": "code",
   "execution_count": 16,
   "metadata": {},
   "outputs": [
    {
     "name": "stdout",
     "output_type": "stream",
     "text": [
      "True None\n"
     ]
    }
   ],
   "source": [
    "print(error, root)"
   ]
  },
  {
   "cell_type": "markdown",
   "metadata": {},
   "source": [
    "### Measuring execution time"
   ]
  },
  {
   "cell_type": "code",
   "execution_count": 21,
   "metadata": {
    "collapsed": true
   },
   "outputs": [],
   "source": [
    "from timeit import default_timer as timer"
   ]
  },
  {
   "cell_type": "code",
   "execution_count": 22,
   "metadata": {},
   "outputs": [
    {
     "name": "stdout",
     "output_type": "stream",
     "text": [
      "Tempo de execução: 1.887902e-05 segundos\n"
     ]
    }
   ],
   "source": [
    "start = timer()\n",
    "end = timer()\n",
    "\n",
    "print('Tempo de execução: %e segundos' % (end - start))"
   ]
  },
  {
   "cell_type": "code",
   "execution_count": null,
   "metadata": {
    "collapsed": true
   },
   "outputs": [],
   "source": []
  }
 ],
 "metadata": {
  "kernelspec": {
   "display_name": "Python 3",
   "language": "python",
   "name": "python3"
  },
  "language_info": {
   "codemirror_mode": {
    "name": "ipython",
    "version": 3
   },
   "file_extension": ".py",
   "mimetype": "text/x-python",
   "name": "python",
   "nbconvert_exporter": "python",
   "pygments_lexer": "ipython3",
   "version": "3.6.3"
  }
 },
 "nbformat": 4,
 "nbformat_minor": 2
}
