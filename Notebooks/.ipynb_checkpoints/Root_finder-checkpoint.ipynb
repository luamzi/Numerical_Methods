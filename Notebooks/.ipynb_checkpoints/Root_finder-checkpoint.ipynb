{
 "cells": [
  {
   "cell_type": "markdown",
   "metadata": {},
   "source": [
    "## Implementating Bisection Method"
   ]
  },
  {
   "cell_type": "markdown",
   "metadata": {},
   "source": [
    "for a given funtion f, an interval [a, b], a tolerance epsilon and an maximum iteration"
   ]
  },
  {
   "cell_type": "code",
   "execution_count": 1,
   "metadata": {
    "collapsed": true
   },
   "outputs": [],
   "source": [
    "def bisec(f, a, b, epsilon, maxIter = 100):\n",
    "    #toma os valores de f(a) e f(b)\n",
    "    Fa = f(a); Fb = f(b)\n",
    "    \n",
    "    #teste do sinal\n",
    "    if Fa*Fb > 0:\n",
    "        print('Erro: não há mudança de sinal no intervalo dado!')\n",
    "        return (True, None)\n",
    "    \n",
    "    #inicializa intervalo e iteração iniciais\n",
    "    deltaX = abs(b - a)/2; i = 0\n",
    "    \n",
    "    for i in range(1, maxIter+1):\n",
    "        #toma x na metade do intervalo e seu valor nesse ponto\n",
    "        x = (a + b)/2; Fx = f(x)\n",
    "        \n",
    "        print(\"%d\\t%e\\t%e\\t%e\\t%e\\t%e\\t%e\\t%e\"%(i, a, Fa, b, Fb, x, Fx, deltaX))\n",
    "        \n",
    "        #critérios de parada\n",
    "        if (deltaX <= epsilon) and (Fx <= epsilon):\n",
    "            break\n",
    "        \n",
    "        #atualiza os valores de a e b segundo o teste de sinais\n",
    "        if Fa*Fx > 0: #se f(a) e f(x) tiverem o mesmo sinal\n",
    "            a = x; Fa = Fx\n",
    "        else:\n",
    "            b = x\n",
    "        \n",
    "        #atualiza o intervalo\n",
    "        deltaX = deltaX/2\n",
    "    \n",
    "    #teste de convergência\n",
    "    if deltaX <= epsilon and abs(Fx) <= epsilon:\n",
    "        error = False\n",
    "    else:\n",
    "        error = True\n",
    "    \n",
    "    return (error, x)"
   ]
  },
  {
   "cell_type": "markdown",
   "metadata": {},
   "source": [
    "### Define function"
   ]
  },
  {
   "cell_type": "code",
   "execution_count": 3,
   "metadata": {
    "collapsed": true
   },
   "outputs": [],
   "source": [
    "import numpy as np"
   ]
  },
  {
   "cell_type": "code",
   "execution_count": 16,
   "metadata": {
    "collapsed": true
   },
   "outputs": [],
   "source": [
    "def f(x):\n",
    "    return (x**3 - 9*x + 3)"
   ]
  },
  {
   "cell_type": "markdown",
   "metadata": {},
   "source": [
    "### Testing the method"
   ]
  },
  {
   "cell_type": "markdown",
   "metadata": {},
   "source": [
    "Expecting, for\n",
    "f(x) = x² - 1\n",
    "a = 0.0\n",
    "b = 1.0 and\n",
    "epsilon = 0.001,\n",
    "\n",
    "x = 0.33740234375"
   ]
  },
  {
   "cell_type": "code",
   "execution_count": 17,
   "metadata": {
    "collapsed": true
   },
   "outputs": [],
   "source": [
    "expectedRoot = round(0.33740234375, 4)"
   ]
  },
  {
   "cell_type": "code",
   "execution_count": 18,
   "metadata": {},
   "outputs": [
    {
     "name": "stdout",
     "output_type": "stream",
     "text": [
      "1\t0.000000e+00\t3.000000e+00\t1.000000e+00\t-5.000000e+00\t5.000000e-01\t-1.375000e+00\t5.000000e-01\n",
      "2\t0.000000e+00\t3.000000e+00\t5.000000e-01\t-5.000000e+00\t2.500000e-01\t7.656250e-01\t2.500000e-01\n",
      "3\t2.500000e-01\t7.656250e-01\t5.000000e-01\t-5.000000e+00\t3.750000e-01\t-3.222656e-01\t1.250000e-01\n",
      "4\t2.500000e-01\t7.656250e-01\t3.750000e-01\t-5.000000e+00\t3.125000e-01\t2.180176e-01\t6.250000e-02\n",
      "5\t3.125000e-01\t2.180176e-01\t3.750000e-01\t-5.000000e+00\t3.437500e-01\t-5.313110e-02\t3.125000e-02\n",
      "6\t3.125000e-01\t2.180176e-01\t3.437500e-01\t-5.000000e+00\t3.281250e-01\t8.220291e-02\t1.562500e-02\n",
      "7\t3.281250e-01\t8.220291e-02\t3.437500e-01\t-5.000000e+00\t3.359375e-01\t1.447439e-02\t7.812500e-03\n",
      "8\t3.359375e-01\t1.447439e-02\t3.437500e-01\t-5.000000e+00\t3.398438e-01\t-1.934391e-02\t3.906250e-03\n",
      "9\t3.359375e-01\t1.447439e-02\t3.398438e-01\t-5.000000e+00\t3.378906e-01\t-2.438627e-03\t1.953125e-03\n",
      "10\t3.359375e-01\t1.447439e-02\t3.378906e-01\t-5.000000e+00\t3.369141e-01\t6.016918e-03\t9.765625e-04\n",
      "11\t3.369141e-01\t6.016918e-03\t3.378906e-01\t-5.000000e+00\t3.374023e-01\t1.788904e-03\t4.882812e-04\n",
      "12\t3.374023e-01\t1.788904e-03\t3.378906e-01\t-5.000000e+00\t3.376465e-01\t-3.249218e-04\t2.441406e-04\n"
     ]
    }
   ],
   "source": [
    "(error, root) = bisec(f, a=0.0, b=1.0, epsilon=0.001, maxIter=20)"
   ]
  },
  {
   "cell_type": "markdown",
   "metadata": {},
   "source": [
    "### Calculating precision"
   ]
  },
  {
   "cell_type": "code",
   "execution_count": 19,
   "metadata": {},
   "outputs": [
    {
     "name": "stdout",
     "output_type": "stream",
     "text": [
      "Precision:  99.93 %\n"
     ]
    }
   ],
   "source": [
    "precision = (min(root, expectedRoot)/max(root, expectedRoot))*100\n",
    "\n",
    "print('Precision: ', str(round(precision, 2)), '%')"
   ]
  },
  {
   "cell_type": "code",
   "execution_count": 20,
   "metadata": {},
   "outputs": [
    {
     "data": {
      "text/plain": [
       "0.3376"
      ]
     },
     "execution_count": 20,
     "metadata": {},
     "output_type": "execute_result"
    }
   ],
   "source": [
    "round(root, 4)"
   ]
  }
 ],
 "metadata": {
  "kernelspec": {
   "display_name": "Python 3",
   "language": "python",
   "name": "python3"
  },
  "language_info": {
   "codemirror_mode": {
    "name": "ipython",
    "version": 3
   },
   "file_extension": ".py",
   "mimetype": "text/x-python",
   "name": "python",
   "nbconvert_exporter": "python",
   "pygments_lexer": "ipython3",
   "version": "3.6.3"
  }
 },
 "nbformat": 4,
 "nbformat_minor": 2
}
